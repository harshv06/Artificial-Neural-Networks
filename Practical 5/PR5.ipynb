{
 "cells": [
  {
   "cell_type": "code",
   "execution_count": 1,
   "metadata": {},
   "outputs": [],
   "source": [
    "import numpy as np"
   ]
  },
  {
   "cell_type": "code",
   "execution_count": 11,
   "metadata": {},
   "outputs": [],
   "source": [
    "def signum(x):\n",
    "    return np.where(x>=0,1,-1)"
   ]
  },
  {
   "cell_type": "code",
   "execution_count": 12,
   "metadata": {},
   "outputs": [],
   "source": [
    "def train_bam(X,Y):\n",
    "    return np.dot(X.T,Y)"
   ]
  },
  {
   "cell_type": "code",
   "execution_count": 13,
   "metadata": {},
   "outputs": [],
   "source": [
    "def recall(W,pattern,steps=50):\n",
    "    for _ in range(steps):\n",
    "        pattern=signum(np.dot(pattern,W))\n",
    "    return pattern"
   ]
  },
  {
   "cell_type": "code",
   "execution_count": 14,
   "metadata": {},
   "outputs": [],
   "source": [
    "X=np.array([[1,1,-1],[1,-1,1],[-1,1,1]])\n",
    "Y=np.array([[-1,-1,1],[-1,1,-1],[1,-1,-1]])"
   ]
  },
  {
   "cell_type": "code",
   "execution_count": 15,
   "metadata": {},
   "outputs": [
    {
     "data": {
      "text/plain": [
       "array([[-3,  1,  1],\n",
       "       [ 1, -3,  1],\n",
       "       [ 1,  1, -3]])"
      ]
     },
     "execution_count": 15,
     "metadata": {},
     "output_type": "execute_result"
    }
   ],
   "source": [
    "W=train_bam(X,Y)\n",
    "W"
   ]
  },
  {
   "cell_type": "code",
   "execution_count": 16,
   "metadata": {},
   "outputs": [
    {
     "name": "stdout",
     "output_type": "stream",
     "text": [
      "[-1 -1  1]\n",
      "[-1  1 -1]\n",
      "[ 1 -1 -1]\n"
     ]
    }
   ],
   "source": [
    "for i,x in enumerate(Y):\n",
    "    recall_x=recall(W,x)\n",
    "    print(recall_x)"
   ]
  },
  {
   "cell_type": "code",
   "execution_count": null,
   "metadata": {},
   "outputs": [],
   "source": [
    "# import numpy as np\n",
    "\n",
    "# def signum(x):\n",
    "#     \"\"\"\n",
    "#     The signum activation function, which returns 1 if x is non-negative, else -1.\n",
    "\n",
    "#     Args:\n",
    "#     x (array): The input array on which to apply the signum function.\n",
    "\n",
    "#     Returns:\n",
    "#     array: An array where each element is 1 if the corresponding input element is >= 0, else -1.\n",
    "#     \"\"\"\n",
    "#     return np.where(x >= 0, 1, -1)\n",
    "\n",
    "# def train_bam(X, Y):\n",
    "#     \"\"\"\n",
    "#     Train a Bidirectional Associative Memory (BAM) model.\n",
    "\n",
    "#     Args:\n",
    "#     X (array): An array of input patterns.\n",
    "#     Y (array): An array of output patterns.\n",
    "\n",
    "#     Returns:\n",
    "#     array: The weight matrix W obtained from the outer product of X and Y.\n",
    "#     \"\"\"\n",
    "#     return np.dot(X.T, Y)\n",
    "\n",
    "# def recall(W, pattern, steps=50):\n",
    "#     \"\"\"\n",
    "#     Recall phase of the BAM, where a pattern is iteratively updated using the weight matrix.\n",
    "\n",
    "#     Args:\n",
    "#     W (array): The weight matrix of the BAM.\n",
    "#     pattern (array): The initial pattern to recall the associated pattern.\n",
    "#     steps (int): The number of iterations to update the pattern.\n",
    "\n",
    "#     Returns:\n",
    "#     array: The recalled pattern after 'steps' iterations.\n",
    "#     \"\"\"\n",
    "#     for _ in range(steps):\n",
    "#         pattern = signum(np.dot(pattern, W))\n",
    "#     return pattern\n",
    "\n",
    "# # Define the input patterns and their associated output patterns.\n",
    "# X = np.array([[1, 1, -1], [1, -1, 1], [-1, 1, 1]])\n",
    "# Y = np.array([[-1, -1, 1], [-1, 1, -1], [1, -1, -1]])\n",
    "\n",
    "# # Train the BAM and obtain the weight matrix W.\n",
    "# W = train_bam(X, Y)\n",
    "\n",
    "# # Recall the patterns using the trained weight matrix.\n",
    "# for i, x in enumerate(Y):\n",
    "#     recall_x = recall(W, x)\n",
    "#     print(f\"Recalled pattern for input {x}: {recall_x}\")\n"
   ]
  },
  {
   "cell_type": "code",
   "execution_count": null,
   "metadata": {},
   "outputs": [],
   "source": []
  }
 ],
 "metadata": {
  "kernelspec": {
   "display_name": "Python 3",
   "language": "python",
   "name": "python3"
  },
  "language_info": {
   "codemirror_mode": {
    "name": "ipython",
    "version": 3
   },
   "file_extension": ".py",
   "mimetype": "text/x-python",
   "name": "python",
   "nbconvert_exporter": "python",
   "pygments_lexer": "ipython3",
   "version": "3.11.2"
  }
 },
 "nbformat": 4,
 "nbformat_minor": 2
}
