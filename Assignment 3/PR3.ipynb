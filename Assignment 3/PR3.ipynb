{
 "cells": [
  {
   "cell_type": "code",
   "execution_count": 15,
   "metadata": {},
   "outputs": [],
   "source": [
    "import pandas as pd\n",
    "import numpy as np"
   ]
  },
  {
   "cell_type": "code",
   "execution_count": 16,
   "metadata": {},
   "outputs": [],
   "source": [
    "def perceptron_learning(inputs,labels,learning_rate=0.1,epocs=10):\n",
    "    weights=np.random.rand(inputs.shape[1])\n",
    "    bias=0\n",
    "    for epoc in range(epocs):\n",
    "        for input_vector,label in zip(inputs,labels):\n",
    "            activation=np.dot(input_vector,weights)+bias\n",
    "            prediction=1 if activation>0 else 0\n",
    "\n",
    "            error=label-prediction\n",
    "            weights+= learning_rate* error * input_vector\n",
    "            bias+=learning_rate*error\n",
    "    return weights,bias"
   ]
  },
  {
   "cell_type": "code",
   "execution_count": 17,
   "metadata": {},
   "outputs": [],
   "source": [
    "inputs = np.array([[ord(char)] for char in '0123456789'])\n",
    "labels = np.array([0, 1, 0, 1, 0, 1, 0, 1, 0, 1])  # Even=0, Odd=1"
   ]
  },
  {
   "cell_type": "code",
   "execution_count": 18,
   "metadata": {},
   "outputs": [],
   "source": [
    "weights,bias=perceptron_learning(inputs,labels,epocs=20)"
   ]
  },
  {
   "cell_type": "code",
   "execution_count": 19,
   "metadata": {},
   "outputs": [],
   "source": [
    "def predict(number,weights,bias):\n",
    "    activation=np.dot([ord(number)],weights)+bias\n",
    "    return 1 if activation>0 else 0"
   ]
  },
  {
   "cell_type": "code",
   "execution_count": 20,
   "metadata": {},
   "outputs": [],
   "source": [
    "test_numbers='0123456789'\n",
    "predictions=[predict(num,weights,bias) for num in test_numbers]"
   ]
  },
  {
   "cell_type": "code",
   "execution_count": 21,
   "metadata": {},
   "outputs": [
    {
     "name": "stdout",
     "output_type": "stream",
     "text": [
      "Perceptron predictions for numbers 0-9:\n",
      "Input:  ['0', '1', '2', '3', '4', '5', '6', '7', '8', '9']\n",
      "Predicted classes:  [1, 1, 1, 1, 1, 1, 1, 1, 1, 1]\n"
     ]
    }
   ],
   "source": [
    "print(\"Perceptron predictions for numbers 0-9:\")\n",
    "print(\"Input: \", list(test_numbers))\n",
    "print(\"Predicted classes: \", predictions)  # 0 for even, 1 for odd"
   ]
  },
  {
   "cell_type": "code",
   "execution_count": 24,
   "metadata": {},
   "outputs": [
    {
     "name": "stdout",
     "output_type": "stream",
     "text": [
      "Training complete after 11 epochs.\n",
      "Perceptron predictions for numbers 0-9:\n",
      "Input:  ['0', '1', '2', '3', '4', '5', '6', '7', '8', '9']\n",
      "Predicted classes:  [0, 1, 0, 1, 0, 1, 0, 1, 0, 1]\n"
     ]
    }
   ],
   "source": [
    "import numpy as np\n",
    "\n",
    "def perceptron_learning(inputs, labels, learning_rate=0.1, epochs=100):\n",
    "    # Initialize weights and bias\n",
    "    weights = np.random.rand(inputs.shape[1])\n",
    "    bias = 0.0\n",
    "\n",
    "    for epoch in range(epochs):\n",
    "        total_error = 0\n",
    "        for input_vector, label in zip(inputs, labels):\n",
    "            # Compute the neuron output\n",
    "            activation = np.dot(input_vector, weights) + bias\n",
    "            prediction = 1 if activation >= 0 else 0\n",
    "            error = label - prediction\n",
    "            total_error += abs(error)\n",
    "            \n",
    "            # Update weights and bias\n",
    "            weights += learning_rate * error * input_vector\n",
    "            bias += learning_rate * error\n",
    "        \n",
    "        if total_error == 0:\n",
    "            print(f\"Training complete after {epoch+1} epochs.\")\n",
    "            break\n",
    "    return weights, bias\n",
    "\n",
    "# ASCII values for '0' to '9' and their modulus results\n",
    "inputs = np.array([[ord(char), ord(char) % 2] for char in '0123456789'])\n",
    "labels = np.array([0, 1, 0, 1, 0, 1, 0, 1, 0, 1])  # Even=0, Odd=1\n",
    "\n",
    "# Train the Perceptron\n",
    "weights, bias = perceptron_learning(inputs, labels)\n",
    "\n",
    "# Predict function\n",
    "def predict(number, weights, bias):\n",
    "    input_features = [ord(number), ord(number) % 2]\n",
    "    activation = np.dot(input_features, weights) + bias\n",
    "    return 1 if activation >= 0 else 0\n",
    "\n",
    "# Test the trained Perceptron\n",
    "test_numbers = '0123456789'\n",
    "predictions = [predict(num, weights, bias) for num in test_numbers]\n",
    "\n",
    "print(\"Perceptron predictions for numbers 0-9:\")\n",
    "print(\"Input: \", list(test_numbers))\n",
    "print(\"Predicted classes: \", predictions)  # 0 for even, 1 for odd\n"
   ]
  },
  {
   "cell_type": "code",
   "execution_count": null,
   "metadata": {},
   "outputs": [],
   "source": []
  }
 ],
 "metadata": {
  "kernelspec": {
   "display_name": "Python 3",
   "language": "python",
   "name": "python3"
  },
  "language_info": {
   "codemirror_mode": {
    "name": "ipython",
    "version": 3
   },
   "file_extension": ".py",
   "mimetype": "text/x-python",
   "name": "python",
   "nbconvert_exporter": "python",
   "pygments_lexer": "ipython3",
   "version": "3.11.2"
  }
 },
 "nbformat": 4,
 "nbformat_minor": 2
}
