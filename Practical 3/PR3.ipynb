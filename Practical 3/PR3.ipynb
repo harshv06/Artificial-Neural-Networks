{
 "cells": [
  {
   "cell_type": "code",
   "execution_count": 3,
   "metadata": {},
   "outputs": [],
   "source": [
    "import pandas as pd\n",
    "import numpy as np"
   ]
  },
  {
   "cell_type": "code",
   "execution_count": 15,
   "metadata": {},
   "outputs": [],
   "source": [
    "class perceptron:\n",
    "    def __init__(self,size):\n",
    "        self.size=size\n",
    "        self.weights=np.random.randn(self.size)\n",
    "        self.bais=np.random.randn()\n",
    "\n",
    "    def step_function(self,x):\n",
    "        return 1 if x>=0 else 0\n",
    "    \n",
    "    def predict(self,inputs):\n",
    "        weighted_sum=np.dot(inputs,self.weights)\n",
    "        op=self.step_function(weighted_sum)\n",
    "        return op\n",
    "\n",
    "    def train(self,training_data,epochs=100,learning_rate=0.01):\n",
    "        for _ in range(epochs):\n",
    "            for data in training_data:\n",
    "                inputs=np.array(data['input'])\n",
    "                label=data['label']\n",
    "                op=self.predict(inputs)\n",
    "                self.weights+=learning_rate*(label-op) * inputs\n",
    "                self.bais+=learning_rate* (label-op)\n",
    "                "
   ]
  },
  {
   "cell_type": "code",
   "execution_count": 16,
   "metadata": {},
   "outputs": [],
   "source": [
    "training_data=[\n",
    "    {'input':[1,1,0,0,0,0],'label':1},\n",
    "    {'input':[1,1,0,0,0,1],'label':0},\n",
    "    {'input':[1,1,0,0,1,0],'label':1},\n",
    "    {'input':[1,1,0,0,1,1],'label':0},\n",
    "    {'input':[1,1,0,1,0,0],'label':1},\n",
    "    {'input':[1,1,0,1,0,1],'label':0},\n",
    "    {'input':[1,1,0,1,1,0],'label':1},\n",
    "    {'input':[1,1,0,1,1,1],'label':0},\n",
    "    {'input':[1,1,1,0,0,0],'label':1},\n",
    "    {'input':[1,1,1,0,0,1],'label':0},\n",
    "]"
   ]
  },
  {
   "cell_type": "code",
   "execution_count": 17,
   "metadata": {},
   "outputs": [],
   "source": [
    "size=len(training_data[0]['input'])\n",
    "percep=perceptron(size)\n",
    "percep.train(training_data)"
   ]
  },
  {
   "cell_type": "code",
   "execution_count": 23,
   "metadata": {},
   "outputs": [],
   "source": [
    "j=int(input(\"Enter Number: \"))\n",
    "inputs=np.array([int(x) for x in list('{0:06b}'.format(j))])"
   ]
  },
  {
   "cell_type": "code",
   "execution_count": 24,
   "metadata": {},
   "outputs": [
    {
     "name": "stdout",
     "output_type": "stream",
     "text": [
      "Odd\n"
     ]
    }
   ],
   "source": [
    "op=percep.predict(inputs)\n",
    "print(\"Even\" if op==1 else \"Odd\")"
   ]
  },
  {
   "cell_type": "code",
   "execution_count": null,
   "metadata": {},
   "outputs": [],
   "source": [
    "# import numpy as np\n",
    "\n",
    "# # Define the perceptron class\n",
    "# class perceptron:\n",
    "#     def __init__(self, size):\n",
    "#         # Initialize perceptron with the size of the input vector\n",
    "#         self.size = size\n",
    "#         # Randomly initialize weights and bias\n",
    "#         self.weights = np.random.randn(self.size)\n",
    "#         self.bais = np.random.randn()\n",
    "\n",
    "#     def step_function(self, x):\n",
    "#         # Binary step function that returns 1 if x is non-negative, 0 otherwise\n",
    "#         return 1 if x >= 0 else 0\n",
    "    \n",
    "#     def predict(self, inputs):\n",
    "#         # Compute the weighted sum of inputs and bias\n",
    "#         weighted_sum = np.dot(inputs, self.weights) + self.bais\n",
    "#         # Use step function to determine output (binary classification)\n",
    "#         return self.step_function(weighted_sum)\n",
    "\n",
    "#     def train(self, training_data, epochs=100, learning_rate=0.01):\n",
    "#         # Training loop over the specified number of epochs\n",
    "#         for _ in range(epochs):\n",
    "#             # Iterate over each example in the training data\n",
    "#             for data in training_data:\n",
    "#                 inputs = np.array(data['input'])\n",
    "#                 label = data['label']\n",
    "#                 prediction = self.predict(inputs)\n",
    "#                 # Adjust weights and bias based on the error and learning rate\n",
    "#                 self.weights += learning_rate * (label - prediction) * inputs\n",
    "#                 self.bais += learning_rate * (label - prediction)\n",
    "\n",
    "# # Example training data, each with input and corresponding label\n",
    "# training_data = [\n",
    "#     {'input': [1, 1, 0, 0, 0, 0], 'label': 1},\n",
    "#     {'input': [1, 1, 0, 0, 0, 1], 'label': 0},\n",
    "#     {'input': [1, 1, 0, 0, 1, 0], 'label': 1},\n",
    "#     {'input': [1, 1, 0, 0, 1, 1], 'label': 0},\n",
    "#     {'input': [1, 1, 0, 1, 0, 0], 'label': 1},\n",
    "#     {'input': [1, 1, 0, 1, 0, 1], 'label': 0},\n",
    "#     {'input': [1, 1, 0, 1, 1, 0], 'label': 1},\n",
    "#     {'input': [1, 1, 0, 1, 1, 1], 'label': 0},\n",
    "#     {'input': [1, 1, 1, 0, 0, 0], 'label': 1},\n",
    "#     {'input': [1, 1, 1, 0, 0, 1], 'label': 0},\n",
    "# ]\n",
    "\n",
    "# # Determine the length of input vectors\n",
    "# size = len(training_data[0]['input'])\n",
    "# # Create an instance of the perceptron\n",
    "# percep = perceptron(size)\n",
    "# # Train the perceptron with the training data\n",
    "# percep.train(training_data)\n",
    "\n",
    "# # User input for testing the trained perceptron\n",
    "# j = int(input(\"Enter Number: \"))\n",
    "# # Convert the integer to a binary format, pad with zeros, and create an input array\n",
    "# inputs = np.array([int(x) for x in list('{0:06b}'.format(j))])\n",
    "# # Predict using the perceptron\n",
    "# op = percep.predict(inputs)\n",
    "# # Output the result based on the perceptron's prediction\n",
    "# print(\"Even\" if op == 1 else \"Odd\")\n"
   ]
  }
 ],
 "metadata": {
  "kernelspec": {
   "display_name": "Python 3",
   "language": "python",
   "name": "python3"
  },
  "language_info": {
   "codemirror_mode": {
    "name": "ipython",
    "version": 3
   },
   "file_extension": ".py",
   "mimetype": "text/x-python",
   "name": "python",
   "nbconvert_exporter": "python",
   "pygments_lexer": "ipython3",
   "version": "3.11.2"
  }
 },
 "nbformat": 4,
 "nbformat_minor": 2
}
