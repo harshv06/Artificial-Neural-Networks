{
 "cells": [
  {
   "cell_type": "code",
   "execution_count": 1,
   "metadata": {},
   "outputs": [],
   "source": [
    "import numpy as np"
   ]
  },
  {
   "cell_type": "code",
   "execution_count": 27,
   "metadata": {},
   "outputs": [],
   "source": [
    "class perceptron:\n",
    "    def mp_neuron(self,inputs,weights,treshhold):\n",
    "        # weighted_sum=np.dot(inputs,weights)\n",
    "        weighted_sum=(inputs[0] * weights[0]) + (inputs[1] * weights[1])\n",
    "        output=1 if weighted_sum>=treshhold else 0\n",
    "        return output\n",
    "\n",
    "    def andNot(self,x1,x2):\n",
    "        weights=[-1,1]\n",
    "        treshhold=1\n",
    "        inputs=np.array([x1,x2])\n",
    "        output=self.mp_neuron(inputs,weights,treshhold)\n",
    "        return output"
   ]
  },
  {
   "cell_type": "code",
   "execution_count": 30,
   "metadata": {},
   "outputs": [],
   "source": [
    "percep=perceptron()\n",
    "# print(percep.andNot(1,1))"
   ]
  },
  {
   "cell_type": "code",
   "execution_count": 29,
   "metadata": {},
   "outputs": [
    {
     "name": "stdout",
     "output_type": "stream",
     "text": [
      "0\n",
      "1\n",
      "0\n",
      "0\n"
     ]
    }
   ],
   "source": [
    "inputs = [(0, 0), (0, 1), (1, 0), (1, 1)]\n",
    "for input in inputs:\n",
    "    print(percep.andNot(input[0],input[1]))"
   ]
  },
  {
   "cell_type": "code",
   "execution_count": null,
   "metadata": {},
   "outputs": [],
   "source": [
    "# import numpy as np\n",
    "\n",
    "# class perceptron:\n",
    "#     def mp_neuron(self, inputs, weights, threshold):\n",
    "#         \"\"\"\n",
    "#         Performs a single neuron computation with given inputs and weights, and threshold.\n",
    "\n",
    "#         Args:\n",
    "#         inputs (np.array): Input vector.\n",
    "#         weights (list): Weights for the inputs.\n",
    "#         threshold (int): Threshold value for activation.\n",
    "\n",
    "#         Returns:\n",
    "#         int: The output of the neuron (1 or 0).\n",
    "#         \"\"\"\n",
    "#         # Calculate the weighted sum of inputs based on weights provided\n",
    "#         weighted_sum = (inputs[0] * weights[0]) + (inputs[1] * weights[1])\n",
    "\n",
    "#         # Apply the threshold to determine the output\n",
    "#         output = 1 if weighted_sum >= threshold else 0\n",
    "#         return output\n",
    "\n",
    "#     def andNot(self, x1, x2):\n",
    "#         \"\"\"\n",
    "#         Defines the logic for an AND NOT operation using a perceptron.\n",
    "\n",
    "#         Args:\n",
    "#         x1 (int): First input.\n",
    "#         x2 (int): Second input.\n",
    "\n",
    "#         Returns:\n",
    "#         int: Result of the AND NOT operation on x1 and x2.\n",
    "#         \"\"\"\n",
    "#         # Set weights and threshold for the AND NOT logic\n",
    "#         weights = [-1, 1]  # Weights chosen such that it mimics AND NOT logic\n",
    "#         threshold = 1\n",
    "\n",
    "#         # Convert inputs to a numpy array\n",
    "#         inputs = np.array([x1, x2])\n",
    "\n",
    "#         # Compute output using the neuron model\n",
    "#         output = self.mp_neuron(inputs, weights, threshold)\n",
    "#         return output\n",
    "\n",
    "# # Create an instance of the perceptron class\n",
    "# percep = perceptron()\n",
    "\n",
    "# # Inputs for testing the AND NOT gate functionality\n",
    "# inputs = [(0, 0), (0, 1), (1, 0), (1, 1)]\n",
    "\n",
    "# # Iterate through each pair of inputs and print the result of the AND NOT operation\n",
    "# for input_pair in inputs:\n",
    "#     print(f'AND NOT ({input_pair[0]}, {input_pair[1]}) = {percep.andNot(input_pair[0], input_pair[1])}')\n"
   ]
  }
 ],
 "metadata": {
  "kernelspec": {
   "display_name": "Python 3",
   "language": "python",
   "name": "python3"
  },
  "language_info": {
   "codemirror_mode": {
    "name": "ipython",
    "version": 3
   },
   "file_extension": ".py",
   "mimetype": "text/x-python",
   "name": "python",
   "nbconvert_exporter": "python",
   "pygments_lexer": "ipython3",
   "version": "3.11.2"
  }
 },
 "nbformat": 4,
 "nbformat_minor": 2
}
