{
 "cells": [
  {
   "cell_type": "code",
   "execution_count": 1,
   "id": "6c82c964",
   "metadata": {},
   "outputs": [],
   "source": [
    "import numpy as np"
   ]
  },
  {
   "cell_type": "code",
   "execution_count": 42,
   "id": "a9482c6b",
   "metadata": {},
   "outputs": [],
   "source": [
    "class Hop:\n",
    "    def __init__(self,size):\n",
    "        self.size=size\n",
    "        self.weights=np.zeros((size,size))\n",
    "        \n",
    "    def train(self,patterns):\n",
    "        for pattern in patterns:\n",
    "            self.weights+=np.outer(pattern,pattern)\n",
    "            np.fill_diagonal(self.weights,0)\n",
    "            self.weights/=len(patterns)\n",
    "        \n",
    "    def recall(self,pattern,epocs=20):\n",
    "        result=pattern.copy()\n",
    "        for _ in range(epocs):\n",
    "            for i in range(self.size):\n",
    "                raw_value=np.dot(self.weights[i,:],result)\n",
    "                result[i]=1 if raw_value>0 else -1\n",
    "        return result\n",
    "    \n",
    "    def energy(self, state):\n",
    "        return -0.5 * state @ self.weights @ state.T\n"
   ]
  },
  {
   "cell_type": "code",
   "execution_count": 43,
   "id": "8946efb9",
   "metadata": {},
   "outputs": [],
   "source": [
    "train_patterns = np.array(\n",
    "    [\n",
    "        [1, -1, 1, -1, 1, -1, 1, -1],\n",
    "        [-1, -1, -1, -1, 1, 1, 1, 1],\n",
    "        [1, 1, -1, -1, -1, -1, 1, 1],\n",
    "        [-1, 1, -1, 1, -1, 1, -1, 1],\n",
    "    ]\n",
    ")"
   ]
  },
  {
   "cell_type": "code",
   "execution_count": 44,
   "id": "90dc49dd",
   "metadata": {},
   "outputs": [],
   "source": [
    "hop=Hop(8)"
   ]
  },
  {
   "cell_type": "code",
   "execution_count": 45,
   "id": "26fcb92e",
   "metadata": {},
   "outputs": [],
   "source": [
    "hop.train(train_patterns)"
   ]
  },
  {
   "cell_type": "code",
   "execution_count": 46,
   "id": "c991ebd7",
   "metadata": {},
   "outputs": [
    {
     "name": "stdout",
     "output_type": "stream",
     "text": [
      "Test pattern: [-1 -1 -1 -1 -1 -1  1  1]\n",
      "Retrieved pattern: [ 1  1 -1 -1 -1 -1  1  1]\n",
      "Energy of the retrieved state: -0.671875\n"
     ]
    }
   ],
   "source": [
    "test = np.array([-1, -1, -1, -1, -1, -1, 1, 1])  # Noisy version of first pattern\n",
    "# print(test)\n",
    "retrieved_pattern = hop.recall(test)\n",
    "\n",
    "print(\"Test pattern:\", test)\n",
    "print(\"Retrieved pattern:\", retrieved_pattern)\n",
    "print(\"Energy of the retrieved state:\", hop.energy(retrieved_pattern))"
   ]
  },
  {
   "cell_type": "code",
   "execution_count": null,
   "id": "035535e6",
   "metadata": {},
   "outputs": [],
   "source": [
    "# import numpy as np\n",
    "\n",
    "# # Define a class for the Hopfield network\n",
    "# class Hop:\n",
    "#     def __init__(self, size):\n",
    "#         # Initialize the network with a given size and zero matrix for weights\n",
    "#         self.size = size\n",
    "#         self.weights = np.zeros((size, size))\n",
    "        \n",
    "#     def train(self, patterns):\n",
    "#         # Train the network with provided patterns\n",
    "#         for pattern in patterns:\n",
    "#             # Update weights using the outer product of the pattern with itself\n",
    "#             self.weights += np.outer(pattern, pattern)\n",
    "#             # Set diagonal weights to 0 to avoid self-reinforcement\n",
    "#             np.fill_diagonal(self.weights, 0)\n",
    "#             # Normalize weights by the number of patterns\n",
    "#             self.weights /= len(patterns)\n",
    "        \n",
    "#     def recall(self, pattern, epocs=20):\n",
    "#         # Recall a pattern from the network using asynchronous update\n",
    "#         result = pattern.copy()\n",
    "#         for _ in range(epocs):\n",
    "#             for i in range(self.size):\n",
    "#                 # Update each neuron based on the dot product of its weights and the current pattern state\n",
    "#                 raw_value = np.dot(self.weights[i, :], result)\n",
    "#                 result[i] = 1 if raw_value > 0 else -1\n",
    "#         return result\n",
    "    \n",
    "#     def energy(self, state):\n",
    "#         # Calculate the energy of a given state\n",
    "#         return -0.5 * state @ self.weights @ state.T\n",
    "\n",
    "# # Define training patterns for the Hopfield network\n",
    "# train_patterns = np.array(\n",
    "#     [\n",
    "#         [1, -1, 1, -1, 1, -1, 1, -1],\n",
    "#         [-1, -1, -1, -1, 1, 1, 1, 1],\n",
    "#         [1, 1, -1, -1, -1, -1, 1, 1],\n",
    "#         [-1, 1, -1, 1, -1, 1, -1, 1],\n",
    "#     ]\n",
    "# )\n",
    "\n",
    "# # Create a Hopfield network instance with 8 neurons\n",
    "# hop = Hop(8)\n",
    "\n",
    "# # Train the Hopfield network with the defined patterns\n",
    "# hop.train(train_patterns)\n",
    "\n",
    "# # Define a test pattern (noisy version of the first pattern)\n",
    "# test = np.array([-1, -1, -1, -1, -1, -1, 1, 1])\n",
    "\n",
    "# # Recall the pattern from the network\n",
    "# retrieved_pattern = hop.recall(test)\n",
    "\n",
    "# # Print the test pattern and the pattern retrieved from the network\n",
    "# print(\"Test pattern:\", test)\n",
    "# print(\"Retrieved pattern:\", retrieved_pattern)\n",
    "\n",
    "# # Calculate and print the energy of the retrieved state\n",
    "# print(\"Energy of the retrieved state:\", hop.energy(retrieved_pattern))\n"
   ]
  }
 ],
 "metadata": {
  "kernelspec": {
   "display_name": "Python 3 (ipykernel)",
   "language": "python",
   "name": "python3"
  },
  "language_info": {
   "codemirror_mode": {
    "name": "ipython",
    "version": 3
   },
   "file_extension": ".py",
   "mimetype": "text/x-python",
   "name": "python",
   "nbconvert_exporter": "python",
   "pygments_lexer": "ipython3",
   "version": "3.11.5"
  }
 },
 "nbformat": 4,
 "nbformat_minor": 5
}
